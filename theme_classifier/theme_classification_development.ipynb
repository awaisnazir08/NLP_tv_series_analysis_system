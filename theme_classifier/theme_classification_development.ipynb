{
 "cells": [
  {
   "cell_type": "code",
   "execution_count": 23,
   "metadata": {},
   "outputs": [],
   "source": [
    "from transformers import pipeline\n",
    "from nltk.tokenize import sent_tokenize\n",
    "import nltk\n",
    "import torch\n",
    "from glob import glob\n",
    "import pandas as pd\n",
    "import numpy as np"
   ]
  },
  {
   "cell_type": "code",
   "execution_count": 97,
   "metadata": {},
   "outputs": [
    {
     "name": "stderr",
     "output_type": "stream",
     "text": [
      "[nltk_data] Downloading package punkt_tab to\n",
      "[nltk_data]     C:\\Users\\HP\\AppData\\Roaming\\nltk_data...\n",
      "[nltk_data]   Unzipping tokenizers\\punkt_tab.zip.\n"
     ]
    },
    {
     "data": {
      "text/plain": [
       "True"
      ]
     },
     "execution_count": 97,
     "metadata": {},
     "output_type": "execute_result"
    }
   ],
   "source": [
    "# nltk.download('punkt_tab')"
   ]
  },
  {
   "cell_type": "markdown",
   "metadata": {},
   "source": [
    "# Load Model"
   ]
  },
  {
   "cell_type": "code",
   "execution_count": 2,
   "metadata": {},
   "outputs": [
    {
     "data": {
      "text/plain": [
       "'cpu'"
      ]
     },
     "execution_count": 2,
     "metadata": {},
     "output_type": "execute_result"
    }
   ],
   "source": [
    "model_name = 'facebook/bart-large-mnli'\n",
    "device = 0 if torch.cuda.is_available() else 'cpu'\n",
    "device"
   ]
  },
  {
   "cell_type": "code",
   "execution_count": 3,
   "metadata": {},
   "outputs": [],
   "source": [
    "def load_model(device):\n",
    "    theme_classifier = pipeline(\n",
    "        'zero-shot-classification',\n",
    "        model = model_name,\n",
    "        device = device\n",
    "    )\n",
    "    return theme_classifier"
   ]
  },
  {
   "cell_type": "code",
   "execution_count": 4,
   "metadata": {},
   "outputs": [
    {
     "name": "stdout",
     "output_type": "stream",
     "text": [
      "WARNING:tensorflow:From C:\\Users\\HP\\AppData\\Roaming\\Python\\Python311\\site-packages\\tf_keras\\src\\losses.py:2976: The name tf.losses.sparse_softmax_cross_entropy is deprecated. Please use tf.compat.v1.losses.sparse_softmax_cross_entropy instead.\n",
      "\n"
     ]
    },
    {
     "name": "stderr",
     "output_type": "stream",
     "text": [
      "C:\\Users\\HP\\AppData\\Roaming\\Python\\Python311\\site-packages\\transformers\\tokenization_utils_base.py:1601: FutureWarning: `clean_up_tokenization_spaces` was not set. It will be set to `True` by default. This behavior will be depracted in transformers v4.45, and will be then set to `False` by default. For more details check this issue: https://github.com/huggingface/transformers/issues/31884\n",
      "  warnings.warn(\n"
     ]
    }
   ],
   "source": [
    "theme_classifier = load_model(device)"
   ]
  },
  {
   "cell_type": "code",
   "execution_count": 5,
   "metadata": {},
   "outputs": [],
   "source": [
    "theme_list = ['friendship', 'hope', 'sacrifice', 'battle', 'self development', 'betrayel', 'love', 'dialogue']"
   ]
  },
  {
   "cell_type": "code",
   "execution_count": 6,
   "metadata": {},
   "outputs": [
    {
     "data": {
      "text/plain": [
       "{'sequence': 'I gave him a right hook then a left jab',\n",
       " 'labels': ['battle',\n",
       "  'self development',\n",
       "  'betrayel',\n",
       "  'hope',\n",
       "  'sacrifice',\n",
       "  'dialogue',\n",
       "  'love',\n",
       "  'friendship'],\n",
       " 'scores': [0.9121251702308655,\n",
       "  0.47500133514404297,\n",
       "  0.36077097058296204,\n",
       "  0.08781794458627701,\n",
       "  0.045000385493040085,\n",
       "  0.020133089274168015,\n",
       "  0.004292394500225782,\n",
       "  0.0028172258753329515]}"
      ]
     },
     "execution_count": 6,
     "metadata": {},
     "output_type": "execute_result"
    }
   ],
   "source": [
    "theme_classifier(\n",
    "    'I gave him a right hook then a left jab',\n",
    "    theme_list,\n",
    "    multi_label=True\n",
    ")"
   ]
  },
  {
   "cell_type": "markdown",
   "metadata": {},
   "source": [
    "# Load Dataset"
   ]
  },
  {
   "cell_type": "code",
   "execution_count": 70,
   "metadata": {},
   "outputs": [
    {
     "data": {
      "text/plain": [
       "['../data/subtitles\\\\Naruto Season 1 - 01.ass',\n",
       " '../data/subtitles\\\\Naruto Season 1 - 02.ass',\n",
       " '../data/subtitles\\\\Naruto Season 1 - 03.ass',\n",
       " '../data/subtitles\\\\Naruto Season 1 - 04.ass',\n",
       " '../data/subtitles\\\\Naruto Season 1 - 05.ass',\n",
       " '../data/subtitles\\\\Naruto Season 1 - 06.ass',\n",
       " '../data/subtitles\\\\Naruto Season 1 - 07.ass',\n",
       " '../data/subtitles\\\\Naruto Season 1 - 08.ass',\n",
       " '../data/subtitles\\\\Naruto Season 1 - 09.ass',\n",
       " '../data/subtitles\\\\Naruto Season 1 - 12.ass',\n",
       " '../data/subtitles\\\\Naruto Season 1 - 13.ass',\n",
       " '../data/subtitles\\\\Naruto Season 1 - 14.ass',\n",
       " '../data/subtitles\\\\Naruto Season 1 - 15.ass',\n",
       " '../data/subtitles\\\\Naruto Season 1 - 16.ass',\n",
       " '../data/subtitles\\\\Naruto Season 1 - 17.ass',\n",
       " '../data/subtitles\\\\Naruto Season 1 - 18.ass',\n",
       " '../data/subtitles\\\\Naruto Season 1 - 19.ass',\n",
       " '../data/subtitles\\\\Naruto Season 1 - 20.ass',\n",
       " '../data/subtitles\\\\Naruto Season 1 - 21.ass',\n",
       " '../data/subtitles\\\\Naruto Season 1 - 22.ass',\n",
       " '../data/subtitles\\\\Naruto Season 1 - 23.ass',\n",
       " '../data/subtitles\\\\Naruto Season 1 - 24.ass',\n",
       " '../data/subtitles\\\\Naruto Season 1 - 25.ass',\n",
       " '../data/subtitles\\\\Naruto Season 1 - 26.ass',\n",
       " '../data/subtitles\\\\Naruto Season 2 - 27.ass',\n",
       " '../data/subtitles\\\\Naruto Season 2 - 28.ass',\n",
       " '../data/subtitles\\\\Naruto Season 2 - 29.ass',\n",
       " '../data/subtitles\\\\Naruto Season 2 - 30.ass',\n",
       " '../data/subtitles\\\\Naruto Season 2 - 31.ass',\n",
       " '../data/subtitles\\\\Naruto Season 2 - 32.ass',\n",
       " '../data/subtitles\\\\Naruto Season 2 - 33.ass',\n",
       " '../data/subtitles\\\\Naruto Season 2 - 34.ass',\n",
       " '../data/subtitles\\\\Naruto Season 2 - 35.ass',\n",
       " '../data/subtitles\\\\Naruto Season 2 - 36.ass',\n",
       " '../data/subtitles\\\\Naruto Season 2 - 37.ass',\n",
       " '../data/subtitles\\\\Naruto Season 2 - 38.ass',\n",
       " '../data/subtitles\\\\Naruto Season 2 - 39.ass',\n",
       " '../data/subtitles\\\\Naruto Season 2 - 40.ass',\n",
       " '../data/subtitles\\\\Naruto Season 2 - 41.ass',\n",
       " '../data/subtitles\\\\Naruto Season 2 - 42.ass',\n",
       " '../data/subtitles\\\\Naruto Season 2 - 43.ass',\n",
       " '../data/subtitles\\\\Naruto Season 2 - 44.ass',\n",
       " '../data/subtitles\\\\Naruto Season 2 - 45.ass',\n",
       " '../data/subtitles\\\\Naruto Season 2 - 46.ass',\n",
       " '../data/subtitles\\\\Naruto Season 2 - 47.ass',\n",
       " '../data/subtitles\\\\Naruto Season 2 - 48.ass',\n",
       " '../data/subtitles\\\\Naruto Season 2 - 49.ass',\n",
       " '../data/subtitles\\\\Naruto Season 2 - 50.ass',\n",
       " '../data/subtitles\\\\Naruto Season 2 - 51.ass',\n",
       " '../data/subtitles\\\\Naruto Season 2 - 52.ass',\n",
       " '../data/subtitles\\\\Naruto Season 3 - 53.ass',\n",
       " '../data/subtitles\\\\Naruto Season 3 - 54.ass',\n",
       " '../data/subtitles\\\\Naruto Season 3 - 55.ass',\n",
       " '../data/subtitles\\\\Naruto Season 3 - 56.ass',\n",
       " '../data/subtitles\\\\Naruto Season 3 - 57.ass',\n",
       " '../data/subtitles\\\\Naruto Season 3 - 58.ass',\n",
       " '../data/subtitles\\\\Naruto Season 3 - 59.ass',\n",
       " '../data/subtitles\\\\Naruto Season 3 - 60.ass',\n",
       " '../data/subtitles\\\\Naruto Season 3 - 61.ass',\n",
       " '../data/subtitles\\\\Naruto Season 3 - 62.ass',\n",
       " '../data/subtitles\\\\Naruto Season 3 - 63.ass',\n",
       " '../data/subtitles\\\\Naruto Season 3 - 64.ass',\n",
       " '../data/subtitles\\\\Naruto Season 3 - 65.ass',\n",
       " '../data/subtitles\\\\Naruto Season 3 - 66.ass',\n",
       " '../data/subtitles\\\\Naruto Season 3 - 67.ass',\n",
       " '../data/subtitles\\\\Naruto Season 3 - 68.ass',\n",
       " '../data/subtitles\\\\Naruto Season 3 - 69.ass',\n",
       " '../data/subtitles\\\\Naruto Season 3 - 70.ass',\n",
       " '../data/subtitles\\\\Naruto Season 3 - 71.ass',\n",
       " '../data/subtitles\\\\Naruto Season 3 - 72.ass',\n",
       " '../data/subtitles\\\\Naruto Season 3 - 73.ass',\n",
       " '../data/subtitles\\\\Naruto Season 3 - 74.ass',\n",
       " '../data/subtitles\\\\Naruto Season 3 - 75.ass',\n",
       " '../data/subtitles\\\\Naruto Season 3 - 76.ass',\n",
       " '../data/subtitles\\\\Naruto Season 3 - 77.ass',\n",
       " '../data/subtitles\\\\Naruto Season 3 - 78.ass',\n",
       " '../data/subtitles\\\\Naruto Season 4 - 100.ass',\n",
       " '../data/subtitles\\\\Naruto Season 4 - 101.ass',\n",
       " '../data/subtitles\\\\Naruto Season 4 - 102.ass',\n",
       " '../data/subtitles\\\\Naruto Season 4 - 103.ass',\n",
       " '../data/subtitles\\\\Naruto Season 4 - 104.ass',\n",
       " '../data/subtitles\\\\Naruto Season 4 - 79.ass',\n",
       " '../data/subtitles\\\\Naruto Season 4 - 80.ass',\n",
       " '../data/subtitles\\\\Naruto Season 4 - 81.ass',\n",
       " '../data/subtitles\\\\Naruto Season 4 - 82.ass',\n",
       " '../data/subtitles\\\\Naruto Season 4 - 83.ass',\n",
       " '../data/subtitles\\\\Naruto Season 4 - 84.ass',\n",
       " '../data/subtitles\\\\Naruto Season 4 - 85.ass',\n",
       " '../data/subtitles\\\\Naruto Season 4 - 86.ass',\n",
       " '../data/subtitles\\\\Naruto Season 4 - 87.ass',\n",
       " '../data/subtitles\\\\Naruto Season 4 - 88.ass',\n",
       " '../data/subtitles\\\\Naruto Season 4 - 89.ass',\n",
       " '../data/subtitles\\\\Naruto Season 4 - 90.ass',\n",
       " '../data/subtitles\\\\Naruto Season 4 - 91.ass',\n",
       " '../data/subtitles\\\\Naruto Season 4 - 92.ass',\n",
       " '../data/subtitles\\\\Naruto Season 4 - 93.ass',\n",
       " '../data/subtitles\\\\Naruto Season 4 - 94.ass',\n",
       " '../data/subtitles\\\\Naruto Season 4 - 95.ass',\n",
       " '../data/subtitles\\\\Naruto Season 4 - 96.ass',\n",
       " '../data/subtitles\\\\Naruto Season 4 - 97.ass',\n",
       " '../data/subtitles\\\\Naruto Season 4 - 98.ass',\n",
       " '../data/subtitles\\\\Naruto Season 4 - 99.ass',\n",
       " '../data/subtitles\\\\Naruto Season 5 - 105.ass',\n",
       " '../data/subtitles\\\\Naruto Season 5 - 106.ass',\n",
       " '../data/subtitles\\\\Naruto Season 5 - 107.ass',\n",
       " '../data/subtitles\\\\Naruto Season 5 - 108.ass',\n",
       " '../data/subtitles\\\\Naruto Season 5 - 109.ass',\n",
       " '../data/subtitles\\\\Naruto Season 5 - 110.ass',\n",
       " '../data/subtitles\\\\Naruto Season 5 - 111.ass',\n",
       " '../data/subtitles\\\\Naruto Season 5 - 112.ass',\n",
       " '../data/subtitles\\\\Naruto Season 5 - 113.ass',\n",
       " '../data/subtitles\\\\Naruto Season 5 - 114.ass',\n",
       " '../data/subtitles\\\\Naruto Season 5 - 115.ass',\n",
       " '../data/subtitles\\\\Naruto Season 5 - 116.ass',\n",
       " '../data/subtitles\\\\Naruto Season 5 - 117.ass',\n",
       " '../data/subtitles\\\\Naruto Season 5 - 118.ass',\n",
       " '../data/subtitles\\\\Naruto Season 5 - 119.ass',\n",
       " '../data/subtitles\\\\Naruto Season 5 - 120.ass',\n",
       " '../data/subtitles\\\\Naruto Season 5 - 121.ass',\n",
       " '../data/subtitles\\\\Naruto Season 5 - 122.ass',\n",
       " '../data/subtitles\\\\Naruto Season 5 - 123.ass',\n",
       " '../data/subtitles\\\\Naruto Season 5 - 124.ass',\n",
       " '../data/subtitles\\\\Naruto Season 5 - 125.ass',\n",
       " '../data/subtitles\\\\Naruto Season 5 - 126.ass',\n",
       " '../data/subtitles\\\\Naruto Season 5 - 127.ass',\n",
       " '../data/subtitles\\\\Naruto Season 5 - 128.ass',\n",
       " '../data/subtitles\\\\Naruto Season 5 - 129.ass',\n",
       " '../data/subtitles\\\\Naruto Season 5 - 130.ass',\n",
       " '../data/subtitles\\\\Naruto Season 6 - 131.ass',\n",
       " '../data/subtitles\\\\Naruto Season 6 - 132.ass',\n",
       " '../data/subtitles\\\\Naruto Season 6 - 133.ass',\n",
       " '../data/subtitles\\\\Naruto Season 6 - 134.ass',\n",
       " '../data/subtitles\\\\Naruto Season 6 - 135.ass',\n",
       " '../data/subtitles\\\\Naruto Season 6 - 136.ass',\n",
       " '../data/subtitles\\\\Naruto Season 6 - 137.ass',\n",
       " '../data/subtitles\\\\Naruto Season 6 - 138.ass',\n",
       " '../data/subtitles\\\\Naruto Season 6 - 139.ass',\n",
       " '../data/subtitles\\\\Naruto Season 6 - 140.ass',\n",
       " '../data/subtitles\\\\Naruto Season 6 - 141.ass',\n",
       " '../data/subtitles\\\\Naruto Season 6 - 142.ass',\n",
       " '../data/subtitles\\\\Naruto Season 6 - 143.ass',\n",
       " '../data/subtitles\\\\Naruto Season 6 - 144.ass',\n",
       " '../data/subtitles\\\\Naruto Season 6 - 145.ass',\n",
       " '../data/subtitles\\\\Naruto Season 6 - 146.ass',\n",
       " '../data/subtitles\\\\Naruto Season 6 - 147.ass',\n",
       " '../data/subtitles\\\\Naruto Season 6 - 148.ass',\n",
       " '../data/subtitles\\\\Naruto Season 6 - 149.ass',\n",
       " '../data/subtitles\\\\Naruto Season 6 - 150.ass',\n",
       " '../data/subtitles\\\\Naruto Season 6 - 151.ass',\n",
       " '../data/subtitles\\\\Naruto Season 6 - 152.ass',\n",
       " '../data/subtitles\\\\Naruto Season 6 - 153.ass',\n",
       " '../data/subtitles\\\\Naruto Season 6 - 154.ass',\n",
       " '../data/subtitles\\\\Naruto Season 6 - 155.ass',\n",
       " '../data/subtitles\\\\Naruto Season 6 - 156.ass',\n",
       " '../data/subtitles\\\\Naruto Season 7 - 157.ass',\n",
       " '../data/subtitles\\\\Naruto Season 7 - 158.ass',\n",
       " '../data/subtitles\\\\Naruto Season 7 - 159.ass',\n",
       " '../data/subtitles\\\\Naruto Season 7 - 160.ass',\n",
       " '../data/subtitles\\\\Naruto Season 7 - 161.ass',\n",
       " '../data/subtitles\\\\Naruto Season 7 - 162.ass',\n",
       " '../data/subtitles\\\\Naruto Season 7 - 163.ass',\n",
       " '../data/subtitles\\\\Naruto Season 7 - 164.ass',\n",
       " '../data/subtitles\\\\Naruto Season 7 - 165.ass',\n",
       " '../data/subtitles\\\\Naruto Season 7 - 166.ass',\n",
       " '../data/subtitles\\\\Naruto Season 7 - 167.ass',\n",
       " '../data/subtitles\\\\Naruto Season 7 - 168.ass',\n",
       " '../data/subtitles\\\\Naruto Season 7 - 169.ass',\n",
       " '../data/subtitles\\\\Naruto Season 7 - 170.ass',\n",
       " '../data/subtitles\\\\Naruto Season 7 - 171.ass',\n",
       " '../data/subtitles\\\\Naruto Season 7 - 172.ass',\n",
       " '../data/subtitles\\\\Naruto Season 7 - 173.ass',\n",
       " '../data/subtitles\\\\Naruto Season 7 - 174.ass',\n",
       " '../data/subtitles\\\\Naruto Season 7 - 175.ass',\n",
       " '../data/subtitles\\\\Naruto Season 7 - 176.ass',\n",
       " '../data/subtitles\\\\Naruto Season 7 - 177.ass',\n",
       " '../data/subtitles\\\\Naruto Season 7 - 178.ass',\n",
       " '../data/subtitles\\\\Naruto Season 7 - 179.ass',\n",
       " '../data/subtitles\\\\Naruto Season 7 - 180.ass',\n",
       " '../data/subtitles\\\\Naruto Season 7 - 181.ass',\n",
       " '../data/subtitles\\\\Naruto Season 7 - 182.ass',\n",
       " '../data/subtitles\\\\Naruto Season 8 - 183.ass',\n",
       " '../data/subtitles\\\\Naruto Season 8 - 184.ass',\n",
       " '../data/subtitles\\\\Naruto Season 8 - 185.ass',\n",
       " '../data/subtitles\\\\Naruto Season 8 - 186.ass',\n",
       " '../data/subtitles\\\\Naruto Season 8 - 187.ass',\n",
       " '../data/subtitles\\\\Naruto Season 8 - 188.ass',\n",
       " '../data/subtitles\\\\Naruto Season 8 - 189.ass',\n",
       " '../data/subtitles\\\\Naruto Season 8 - 190.ass',\n",
       " '../data/subtitles\\\\Naruto Season 8 - 191.ass',\n",
       " '../data/subtitles\\\\Naruto Season 8 - 192.ass',\n",
       " '../data/subtitles\\\\Naruto Season 8 - 193.ass',\n",
       " '../data/subtitles\\\\Naruto Season 8 - 194.ass',\n",
       " '../data/subtitles\\\\Naruto Season 8 - 195.ass',\n",
       " '../data/subtitles\\\\Naruto Season 8 - 196.ass',\n",
       " '../data/subtitles\\\\Naruto Season 8 - 197.ass',\n",
       " '../data/subtitles\\\\Naruto Season 8 - 198.ass',\n",
       " '../data/subtitles\\\\Naruto Season 8 - 199.ass',\n",
       " '../data/subtitles\\\\Naruto Season 8 - 200.ass',\n",
       " '../data/subtitles\\\\Naruto Season 8 - 201.ass',\n",
       " '../data/subtitles\\\\Naruto Season 8 - 202.ass',\n",
       " '../data/subtitles\\\\Naruto Season 8 - 203.ass',\n",
       " '../data/subtitles\\\\Naruto Season 8 - 204.ass',\n",
       " '../data/subtitles\\\\Naruto Season 8 - 205.ass',\n",
       " '../data/subtitles\\\\Naruto Season 8 - 206.ass',\n",
       " '../data/subtitles\\\\Naruto Season 8 - 207.ass',\n",
       " '../data/subtitles\\\\Naruto Season 8 - 208.ass',\n",
       " '../data/subtitles\\\\Naruto Season 9 - 209.ass',\n",
       " '../data/subtitles\\\\Naruto Season 9 - 210.ass',\n",
       " '../data/subtitles\\\\Naruto Season 9 - 211.ass',\n",
       " '../data/subtitles\\\\Naruto Season 9 - 212.ass',\n",
       " '../data/subtitles\\\\Naruto Season 9 - 213.ass',\n",
       " '../data/subtitles\\\\Naruto Season 9 - 214.ass',\n",
       " '../data/subtitles\\\\Naruto Season 9 - 215.ass',\n",
       " '../data/subtitles\\\\Naruto Season 9 - 216.ass',\n",
       " '../data/subtitles\\\\Naruto Season 9 - 217.ass',\n",
       " '../data/subtitles\\\\Naruto Season 9 - 218.ass',\n",
       " '../data/subtitles\\\\Naruto Season 9 - 219.ass',\n",
       " '../data/subtitles\\\\Naruto Season 9 - 220.ass']"
      ]
     },
     "execution_count": 70,
     "metadata": {},
     "output_type": "execute_result"
    }
   ],
   "source": [
    "files = glob('../data/subtitles/*.ass')\n",
    "files"
   ]
  },
  {
   "cell_type": "code",
   "execution_count": 25,
   "metadata": {},
   "outputs": [],
   "source": [
    "with open(files[0], 'r') as file:\n",
    "    lines = file.readlines()\n",
    "    lines = lines[27:]\n",
    "    lines = [','.join(line.split(',')[9:]) for line in lines]"
   ]
  },
  {
   "cell_type": "code",
   "execution_count": 26,
   "metadata": {},
   "outputs": [],
   "source": [
    "lines = [line.replace('\\\\N', ' ') for line in lines]"
   ]
  },
  {
   "cell_type": "code",
   "execution_count": 23,
   "metadata": {},
   "outputs": [
    {
     "data": {
      "text/plain": [
       "\"A long time ago, a powerful demon fox appeared with nine tails.\\n With its powerful tails,\\n it could smash mountains and create tidal waves.\\n A band of Ninjas rose to defend their village from attack.\\n We have to wait until the Fourth Hokage gets here!\\n We can't let it get any closer to our village!\\n One great Ninja was able to imprison the monster,\\n but died in the process.\\n This Ninja was known asâ€¦ the Fourth Hokage.\\n Naruto!\\n\""
      ]
     },
     "execution_count": 23,
     "metadata": {},
     "output_type": "execute_result"
    }
   ],
   "source": [
    "\" \".join(lines[:10])"
   ]
  },
  {
   "cell_type": "code",
   "execution_count": 32,
   "metadata": {},
   "outputs": [
    {
     "data": {
      "text/plain": [
       "1"
      ]
     },
     "execution_count": 32,
     "metadata": {},
     "output_type": "execute_result"
    }
   ],
   "source": [
    "int(files[0].split('-')[-1].split('.')[0].strip())"
   ]
  },
  {
   "cell_type": "code",
   "execution_count": 7,
   "metadata": {},
   "outputs": [],
   "source": [
    "def load_subtitles_dataset(dataset_path):\n",
    "    path = (dataset_path + '/*.ass')\n",
    "    subtitles_paths = glob(path)\n",
    "    scripts = []\n",
    "    episode_numbers = []\n",
    "    for path in subtitles_paths:\n",
    "        # Read lines\n",
    "        with open(path, 'r', encoding='utf-8') as file:\n",
    "            lines = file.readlines()\n",
    "            lines = lines[27:]\n",
    "            lines = [','.join(line.split(',')[9:]) for line in lines]\n",
    "            lines = [line.replace('\\\\N', ' ') for line in lines]\n",
    "        \n",
    "        script = \" \".join(lines)    \n",
    "        scripts.append(script)\n",
    "        \n",
    "        episode_number = int(path.split('-')[-1].split('.')[0].strip())\n",
    "        episode_numbers.append(episode_number) \n",
    "    \n",
    "    df = pd.DataFrame.from_dict({'episode':episode_numbers, 'script':scripts})\n",
    "    \n",
    "    return df"
   ]
  },
  {
   "cell_type": "code",
   "execution_count": 8,
   "metadata": {},
   "outputs": [],
   "source": [
    "dataset_path = '../data/subtitles'\n",
    "df = load_subtitles_dataset(dataset_path)"
   ]
  },
  {
   "cell_type": "code",
   "execution_count": 9,
   "metadata": {},
   "outputs": [
    {
     "data": {
      "text/html": [
       "<div>\n",
       "<style scoped>\n",
       "    .dataframe tbody tr th:only-of-type {\n",
       "        vertical-align: middle;\n",
       "    }\n",
       "\n",
       "    .dataframe tbody tr th {\n",
       "        vertical-align: top;\n",
       "    }\n",
       "\n",
       "    .dataframe thead th {\n",
       "        text-align: right;\n",
       "    }\n",
       "</style>\n",
       "<table border=\"1\" class=\"dataframe\">\n",
       "  <thead>\n",
       "    <tr style=\"text-align: right;\">\n",
       "      <th></th>\n",
       "      <th>episode</th>\n",
       "      <th>script</th>\n",
       "    </tr>\n",
       "  </thead>\n",
       "  <tbody>\n",
       "    <tr>\n",
       "      <th>0</th>\n",
       "      <td>1</td>\n",
       "      <td>A long time ago, a powerful demon fox appeared...</td>\n",
       "    </tr>\n",
       "    <tr>\n",
       "      <th>1</th>\n",
       "      <td>2</td>\n",
       "      <td>C'mon!\\n Running like a fugitive,\\n Being chas...</td>\n",
       "    </tr>\n",
       "    <tr>\n",
       "      <th>2</th>\n",
       "      <td>3</td>\n",
       "      <td>C'mon!\\n Running like a fugitive,\\n Being chas...</td>\n",
       "    </tr>\n",
       "    <tr>\n",
       "      <th>3</th>\n",
       "      <td>4</td>\n",
       "      <td>C'mon!\\n Running like a fugitive,\\n Being chas...</td>\n",
       "    </tr>\n",
       "    <tr>\n",
       "      <th>4</th>\n",
       "      <td>5</td>\n",
       "      <td>C'mon!\\n Running like a fugitive,\\n Being chas...</td>\n",
       "    </tr>\n",
       "  </tbody>\n",
       "</table>\n",
       "</div>"
      ],
      "text/plain": [
       "   episode                                             script\n",
       "0        1  A long time ago, a powerful demon fox appeared...\n",
       "1        2  C'mon!\\n Running like a fugitive,\\n Being chas...\n",
       "2        3  C'mon!\\n Running like a fugitive,\\n Being chas...\n",
       "3        4  C'mon!\\n Running like a fugitive,\\n Being chas...\n",
       "4        5  C'mon!\\n Running like a fugitive,\\n Being chas..."
      ]
     },
     "execution_count": 9,
     "metadata": {},
     "output_type": "execute_result"
    }
   ],
   "source": [
    "df.head()"
   ]
  },
  {
   "cell_type": "markdown",
   "metadata": {},
   "source": [
    "## Run Model"
   ]
  },
  {
   "cell_type": "code",
   "execution_count": 10,
   "metadata": {},
   "outputs": [
    {
     "data": {
      "text/plain": [
       "'A long time ago, a powerful demon fox appeared with nine tails.\\n With its powerful tails,\\n it could smash mountains and create tidal waves.\\n A band of Ninjas rose to defend their village from attack.\\n We have to wait until the Fourth Hokage gets here!\\n We can\\'t let it get any closer to our village!\\n One great Ninja was able to imprison the monster,\\n but died in the process.\\n This Ninja was known as… the Fourth Hokage.\\n Naruto!\\n Why did you do such a thing?!\\n You\\'re really gonna get it this time!\\n I don\\'t care!\\n You know your problem?\\n You can\\'t do the things I do!\\n Only I can do this!\\n I\\'m better than all of you! Believe it!\\n There\\'s a problem, sir!\\n Lord Hokage!\\n What is it?\\n Did that Naruto do something again?\\n Yes. He climbed onto the Mountainside Images…\\n And he vandalized and graffitied all over them!\\n Wait!\\n Ha ha…\\n Why should I?\\n Hey, Naruto!\\n How did you suddenly get here, lruka Sensei?\\n The question is what are you doing here when you should be in class now?\\n Now listen, Naruto.\\n You failed the last graduation test and the one before that.\\n This is no time to be goofing off, you fool!\\n We will have a re-test on the Transformation Jutsu!\\n Even those who already passed will take it!\\n Whaaaat?!\\n Sakura Haruno. Here I go…\\n Transform!\\n OK!\\n I did it!\\n Cha!\\n Did you see that, Sasuke?\\n Next, Sasuke Uchiha.\\n Yes.\\n O-OK.\\n Next, Naruto Uzumaki.\\n This is a real pain.\\n And it\\'s all your fault.\\n Like I care!!\\n OK…\\n Good luck, Naruto…\\n Transform!\\n How was it?\\n I call it the \"Sexy Jutsu\"!\\n You fool! Stop making idiotic spells!\\n Darn…\\n Darn…\\n I won\\'t let you go home unless you clean that all up.\\n I don\\'t care…\\n There\\'s nobody home anyway.\\n Naruto...\\n What is it this time?\\n What I meant was…\\n If you clean up all that mess, I\\'ll buy you ramen tonight.\\n Huh?!\\n Yes! I-I will finish it no time!\\n Enter: Naruto Uzumaki!\\n Naruto.\\n Why did you vandalize those faces?\\n Don\\'t you know who the Hokage leaders are?\\n Of course, I do!\\n I know they earned the title Lord Hokage\\n because they were the best Ninja of their time, right?\\n Especially the Fourth Hokage was a hero\\n who saved the village from the nine-tail demon fox.\\n Then why did you do that?\\n Because I\\'ll become a Hokage myself.\\n And I\\'ll be the greatest Hokage of all time!\\n So that everyone will finally learn to accept me!\\n By the way, Sensei, I have a favor to ask.\\n You want another bowl?\\n Mmmm…No…\\n Can I borrow that Leaf headband for a while?\\n This?\\n No no!\\n This is worn only by those who have graduated from Ninja Academy.\\n Tomorrow, you will…\\n You\\'re so mean!\\n So that\\'s why you took off your goggles…\\n Humph... One more bowl please!\\n We are now about to begin the graduation test.\\n When your name is called, proceed to the next classroom.\\n The test is on the Clone Jutsu.\\n Oh no…\\n Of all the…! That is my weakest Jutsu!\\n But still… I will do it no matter what!\\n Clone Jutsu!\\n Disqualified!\\n Iruka Sensei.\\n His physical coordination and stamina are excellent.\\n And he managed to come up with something.\\n Isn\\'t that enough for him to pass?\\n Mizuki Sensei... All the others created three or more clones.\\n Naruto created just one.\\n And it\\'s practically useless. I can\\'t give him a passing mark.\\n I \\'m a Ninja now!\\n You did well. That\\'s my son.\\n Congratulations for your graduation.\\n I\\'ll cook something good tonight!\\n Look at that one.\\n It\\'s that boy. I hear he\\'s the only one who failed.\\n Serves him right.\\n Imagine what would happen if he became a Ninja.\\n Isn\\'t that the boy who is actually…\\n Hey! We\\'re not supposed to talk about that.\\n Iruka. We need to talk later.\\n Yes, sir.\\n Iruka Sensei isn\\'t trying to be mean to you.\\n Then why only me?\\n He wants you to become strong from the bottom of his heart.\\n You both don\\'t have parents.\\n But I really wanted to graduate.\\n Heh... I guess I have no choice…\\n I\\'ll let you in on a big secret.\\n Secret?\\n Iruka.\\n What is it, Lord Hokage?\\n I know how you feel. But…\\n Naruto also grew up without knowing the love of his parents…like you.\\n Let me go!\\n My mom and dad are still out there fighting!\\n Wake up, Iruka Sensei!\\n What\\'s the matter?\\n Come to Lord Hokage\\'s immediately!\\n I heard that Naruto… stole the Scroll of Sealing.\\n The Scroll of Sealing?!\\n Let\\'s see…\\n The first Jutsu is… Multi-Shadow Clone Jutsu?\\n What?! Already a Jutsu I\\'m no good at?\\n Lord Hokage! We can\\'t forgive him!\\n This is not just a prank!\\n The Scroll is a dangerous item that the First Hokage sealed!\\n Depending on its use…\\n It will be a major disaster if it is taken out of the village!\\n Yes. Bring Naruto here at once!\\n Yes, sir!\\n Where did you go…Naruto?\\n I will tell everyone in the village about this and eliminate Naruto…\\n Then the Scroll of Sealing will be mine!\\n Hey you, Naruto!\\n You found me..\\n And I\\'ve only learned one Jutsu.\\n He\\'s been practicing the Jutsu…\\n until he\\'s become this exhausted and dirty…?\\n Listen, listen! I\\'m gonna show you this amazing Jutsu!\\n You\\'re gonna let me graduate if I can do it!\\n Isn\\'t it true that I can graduate if I can do one of the Jutsu written here?\\n Who told you that?\\n Mizuki Sensei. He told me about this scroll, and this place…\\n Mizuki did?!\\n I\\'m impressed you found this place.\\n I see now…how it is.\\n Naruto, give me that scroll.\\n Wait, wait… What\\'s going on here?\\n Naruto! Never give him that scroll!\\n It is a dangerous object that contains forbidden Ninja Jutsu. It was sealed.\\n Mizuki used you in order to get it for himself!\\n W-Wha--?\\n Naruto, Iruka is only afraid of you holding that scroll!\\n Huh?\\n What are you saying, Mizuki! Don\\'t let him fool you, Naruto!\\n I will tell you the truth.\\n Idiot! Don\\'t do that!\\n After an incident 12 years ago, a rule was created.\\n A rule?\\n That is, Naruto, a rule everybody but you knows.\\n Except me?! \\t\\t\\t\\t\\tWhat is it?\\n Stop it, Mizuki!\\n The rule forbids anyone from revealing that you are actually the Demon Fox Spirit!\\n Huh?\\n You are actually the Demon, Nine-Tailed Fox Spirit,\\n who killed Iruka\\'s parents and destroyed our village!\\n Stop it!\\n Everyone has been deceiving you ever since.\\n Didn\\'t you find it strange?\\n Why everyone hated you so much?\\n No! No! No! No! No!\\n Naruto…\\n Nobody accepts you. That\\'s why Iruka hates you so much!\\n Iruka... Naruto grew up without the love of parents.\\n Everyone avoids him like the plague after what happened.\\n That\\'s why he keeps misbehaving.\\n It\\'s the only way for him to get any attention or acknowledgement.\\n He pretends to be tough, but inside he is really hurting.\\n Die, Naruto!\\n Naruto! \\t\\t\\t\\t\\tGet down!\\n Why…?\\n Because you and I are the same.\\n After my parents died,\\n nobody paid attention to me or gave me any support.\\n I wasn\\'t a good student in school.\\n I was the class clown… because I wanted people to notice me.\\n I couldn\\'t get noticed through excellence, so I kept doing stupid things.\\n It was so hard.\\n Isn\\'t that right, Naruto?\\n You felt so lonely…right? And you suffered inside, right?\\n I\\'m sorry, Naruto….\\n If I had been more responsible, maybe you wouldn\\'t have suffered so much.\\n Don\\'t make me laugh!\\n Iruka has always hated you, ever since you killed his parents!\\n He\\'s just saying all that to get the Scroll of Sealing back!\\n Naruto!\\n Narutoooooo!\\n He is not the type of kid who will change his mind.\\n He will take revenge against our village using that scroll!\\n Didn\\'t you see his eyes? Those are the eyes of a Demon Fox.\\n No… Naruto…isn\\'t…like that at all!\\n All I want is to kill Naruto and get the scroll.\\n I\\'ll take care of you later!\\n I-I won\\'t let you…\\n Well, well.\\n Mizuki has a big mouth!\\n Naruto feels worse than he\\'s ever felt.\\n He might unleash the power locked up inside him.\\n The Scroll of Sealing is now with him.\\n There\\'s a slight chance he might actually release\\n the Nine-Tailed Fox Spirit sealed inside him!\\n If that happens…\\n I\\'ve found him!\\n Naruto!\\n Everything that Mizuki said was a lie!\\n Give me that scroll, quick! Mizuki is after the scroll!\\n It can\\'t be…\\n Why is it, Naruto?\\n How…\\n did you know I wasn\\'t Iruka…?\\n Because I\\'m Iruka.\\n I see.\\n What\\'s in it for you to protect the one who killed your family?\\n I\\'m not gonna let a stupid idiot like you get that scroll!\\n You\\'re the idiot. Naruto is the same as me.\\n Same?\\n Anyone can do whatever he wants once he has the scroll.\\n There is no way that that monster…\\n that Fox Spirit, won\\'t take advantage of the power of that scroll!\\n You\\'re right…\\n I guess it was true all along!\\n See, Iruka Sensei never really cared for me at all!\\n ...if he was the Demon Fox Spirit.\\n But Naruto is different!\\n I know that he is an exceptional student.\\n He works very hard,\\n and he\\'s single-minded and clumsy at the same time.\\n No one accepts him, but he knows the meaning of human suffering.\\n He is not the Demon Fox Spirit.\\n He\\'s Naruto Uzumaki of the Village Hidden in the Leaves!\\n You are so gullible. \\t\\t\\t\\t\\tlruka!\\n I was gonna take you down later, but I have changed my mind.\\n Die!\\n I guess this is the end for me…\\n Naruto?!\\n You surprised me there, freak.\\n If you ever lay a hand on Iruka Sensei, I\\'ll kill you!\\n Shut up! I can take care of a kid like you with a single blow!\\n Why don\\'t you try then? I\\'ll strike you back a thousand-fold!\\n Let\\'s see you try! Show me what you can do, Demon Fox!\\n Shadow Clone Jutsu!\\n Naruto! You\\'ve…\\n Those aren\\'t just images but actual clones! That\\'s an advanced Ninjutsu!\\n What\\'s this…?\\n What\\'s the matter? \\t\\t\\t\\t\\tC\\'mon!\\n Weren\\'t you gonna get me with one blow? Here!\\n In that case… I\\'ll come to you.\\n I kinda got carried away. lruka Sensei, are you okay?\\n Yeah.\\n He\\'s really something.\\n Maybe it is true.\\n Maybe he will surpass all the Hokage leaders…\\n Naruto, come over here. I\\'d like to give you something.\\n Has anyone found Naruto yet?\\n No.\\n Darn, this is going to be bad…\\n There\\'s no need to worry anymore.\\n Lord Hokage!\\n He\\'ll be back soon.\\n Sensei, how much longer?\\n OK, you may open your eyes now.\\n Congratulations…on your graduation.\\n In celebration, we\\'ll have ramen tonight!\\n Iruka Sensei!\\n That hurts!\\n Naruto…\\n I was going to lecture to you...\\n that the road gets more difficult now that you\\'re a Ninja.\\n But I guess I\\'ll just wait to tell you that until we get to the ramen stand…\\n W-What do you want, you little shrimp? Quit following me!\\n You\\'re smaller than me and\\n you\\'re saying that you\\'re gonna become the Fifth Hokage?\\n I don\\'t care if you are the 3rd Hokage\\'s grandson or not.\\n It\\'s not that easy to be a Hokage!\\n If you want it that bad, you\\'re gonna have to beat me first!\\n Next episode:  \"My Name Is Konohamaru!\"\\n Watch my outstanding performance!\\n'"
      ]
     },
     "execution_count": 10,
     "metadata": {},
     "output_type": "execute_result"
    }
   ],
   "source": [
    "script = df.iloc[0]['script']\n",
    "script"
   ]
  },
  {
   "cell_type": "code",
   "execution_count": 11,
   "metadata": {},
   "outputs": [
    {
     "data": {
      "text/plain": [
       "['A long time ago, a powerful demon fox appeared with nine tails.',\n",
       " 'With its powerful tails,\\n it could smash mountains and create tidal waves.',\n",
       " 'A band of Ninjas rose to defend their village from attack.',\n",
       " 'We have to wait until the Fourth Hokage gets here!',\n",
       " \"We can't let it get any closer to our village!\",\n",
       " 'One great Ninja was able to imprison the monster,\\n but died in the process.',\n",
       " 'This Ninja was known as… the Fourth Hokage.',\n",
       " 'Naruto!',\n",
       " 'Why did you do such a thing?!',\n",
       " \"You're really gonna get it this time!\",\n",
       " \"I don't care!\",\n",
       " 'You know your problem?',\n",
       " \"You can't do the things I do!\",\n",
       " 'Only I can do this!',\n",
       " \"I'm better than all of you!\",\n",
       " 'Believe it!',\n",
       " \"There's a problem, sir!\",\n",
       " 'Lord Hokage!',\n",
       " 'What is it?',\n",
       " 'Did that Naruto do something again?',\n",
       " 'Yes.',\n",
       " 'He climbed onto the Mountainside Images…\\n And he vandalized and graffitied all over them!',\n",
       " 'Wait!',\n",
       " 'Ha ha…\\n Why should I?',\n",
       " 'Hey, Naruto!',\n",
       " 'How did you suddenly get here, lruka Sensei?',\n",
       " 'The question is what are you doing here when you should be in class now?',\n",
       " 'Now listen, Naruto.',\n",
       " 'You failed the last graduation test and the one before that.',\n",
       " 'This is no time to be goofing off, you fool!',\n",
       " 'We will have a re-test on the Transformation Jutsu!',\n",
       " 'Even those who already passed will take it!',\n",
       " 'Whaaaat?!',\n",
       " 'Sakura Haruno.',\n",
       " 'Here I go…\\n Transform!',\n",
       " 'OK!',\n",
       " 'I did it!',\n",
       " 'Cha!',\n",
       " 'Did you see that, Sasuke?',\n",
       " 'Next, Sasuke Uchiha.',\n",
       " 'Yes.',\n",
       " 'O-OK.\\n Next, Naruto Uzumaki.',\n",
       " 'This is a real pain.',\n",
       " \"And it's all your fault.\",\n",
       " 'Like I care!!',\n",
       " 'OK…\\n Good luck, Naruto…\\n Transform!',\n",
       " 'How was it?',\n",
       " 'I call it the \"Sexy Jutsu\"!',\n",
       " 'You fool!',\n",
       " 'Stop making idiotic spells!',\n",
       " \"Darn…\\n Darn…\\n I won't let you go home unless you clean that all up.\",\n",
       " \"I don't care…\\n There's nobody home anyway.\",\n",
       " 'Naruto...\\n What is it this time?',\n",
       " \"What I meant was…\\n If you clean up all that mess, I'll buy you ramen tonight.\",\n",
       " 'Huh?!',\n",
       " 'Yes!',\n",
       " 'I-I will finish it no time!',\n",
       " 'Enter: Naruto Uzumaki!',\n",
       " 'Naruto.',\n",
       " 'Why did you vandalize those faces?',\n",
       " \"Don't you know who the Hokage leaders are?\",\n",
       " 'Of course, I do!',\n",
       " 'I know they earned the title Lord Hokage\\n because they were the best Ninja of their time, right?',\n",
       " 'Especially the Fourth Hokage was a hero\\n who saved the village from the nine-tail demon fox.',\n",
       " 'Then why did you do that?',\n",
       " \"Because I'll become a Hokage myself.\",\n",
       " \"And I'll be the greatest Hokage of all time!\",\n",
       " 'So that everyone will finally learn to accept me!',\n",
       " 'By the way, Sensei, I have a favor to ask.',\n",
       " 'You want another bowl?',\n",
       " 'Mmmm…No…\\n Can I borrow that Leaf headband for a while?',\n",
       " 'This?',\n",
       " 'No no!',\n",
       " 'This is worn only by those who have graduated from Ninja Academy.',\n",
       " \"Tomorrow, you will…\\n You're so mean!\",\n",
       " \"So that's why you took off your goggles…\\n Humph... One more bowl please!\",\n",
       " 'We are now about to begin the graduation test.',\n",
       " 'When your name is called, proceed to the next classroom.',\n",
       " 'The test is on the Clone Jutsu.',\n",
       " 'Oh no…\\n Of all the…!',\n",
       " 'That is my weakest Jutsu!',\n",
       " 'But still… I will do it no matter what!',\n",
       " 'Clone Jutsu!',\n",
       " 'Disqualified!',\n",
       " 'Iruka Sensei.',\n",
       " 'His physical coordination and stamina are excellent.',\n",
       " 'And he managed to come up with something.',\n",
       " \"Isn't that enough for him to pass?\",\n",
       " 'Mizuki Sensei... All the others created three or more clones.',\n",
       " 'Naruto created just one.',\n",
       " \"And it's practically useless.\",\n",
       " \"I can't give him a passing mark.\",\n",
       " \"I 'm a Ninja now!\",\n",
       " 'You did well.',\n",
       " \"That's my son.\",\n",
       " 'Congratulations for your graduation.',\n",
       " \"I'll cook something good tonight!\",\n",
       " 'Look at that one.',\n",
       " \"It's that boy.\",\n",
       " \"I hear he's the only one who failed.\",\n",
       " 'Serves him right.',\n",
       " 'Imagine what would happen if he became a Ninja.',\n",
       " \"Isn't that the boy who is actually…\\n Hey!\",\n",
       " \"We're not supposed to talk about that.\",\n",
       " 'Iruka.',\n",
       " 'We need to talk later.',\n",
       " 'Yes, sir.',\n",
       " \"Iruka Sensei isn't trying to be mean to you.\",\n",
       " 'Then why only me?',\n",
       " 'He wants you to become strong from the bottom of his heart.',\n",
       " \"You both don't have parents.\",\n",
       " 'But I really wanted to graduate.',\n",
       " 'Heh...',\n",
       " \"I guess I have no choice…\\n I'll let you in on a big secret.\",\n",
       " 'Secret?',\n",
       " 'Iruka.',\n",
       " 'What is it, Lord Hokage?',\n",
       " 'I know how you feel.',\n",
       " 'But…\\n Naruto also grew up without knowing the love of his parents…like you.',\n",
       " 'Let me go!',\n",
       " 'My mom and dad are still out there fighting!',\n",
       " 'Wake up, Iruka Sensei!',\n",
       " \"What's the matter?\",\n",
       " \"Come to Lord Hokage's immediately!\",\n",
       " 'I heard that Naruto… stole the Scroll of Sealing.',\n",
       " 'The Scroll of Sealing?!',\n",
       " \"Let's see…\\n The first Jutsu is… Multi-Shadow Clone Jutsu?\",\n",
       " 'What?!',\n",
       " \"Already a Jutsu I'm no good at?\",\n",
       " 'Lord Hokage!',\n",
       " \"We can't forgive him!\",\n",
       " 'This is not just a prank!',\n",
       " 'The Scroll is a dangerous item that the First Hokage sealed!',\n",
       " 'Depending on its use…\\n It will be a major disaster if it is taken out of the village!',\n",
       " 'Yes.',\n",
       " 'Bring Naruto here at once!',\n",
       " 'Yes, sir!',\n",
       " 'Where did you go…Naruto?',\n",
       " 'I will tell everyone in the village about this and eliminate Naruto…\\n Then the Scroll of Sealing will be mine!',\n",
       " 'Hey you, Naruto!',\n",
       " \"You found me..\\n And I've only learned one Jutsu.\",\n",
       " \"He's been practicing the Jutsu…\\n until he's become this exhausted and dirty…?\",\n",
       " 'Listen, listen!',\n",
       " \"I'm gonna show you this amazing Jutsu!\",\n",
       " \"You're gonna let me graduate if I can do it!\",\n",
       " \"Isn't it true that I can graduate if I can do one of the Jutsu written here?\",\n",
       " 'Who told you that?',\n",
       " 'Mizuki Sensei.',\n",
       " 'He told me about this scroll, and this place…\\n Mizuki did?!',\n",
       " \"I'm impressed you found this place.\",\n",
       " 'I see now…how it is.',\n",
       " 'Naruto, give me that scroll.',\n",
       " \"Wait, wait… What's going on here?\",\n",
       " 'Naruto!',\n",
       " 'Never give him that scroll!',\n",
       " 'It is a dangerous object that contains forbidden Ninja Jutsu.',\n",
       " 'It was sealed.',\n",
       " 'Mizuki used you in order to get it for himself!',\n",
       " 'W-Wha--?',\n",
       " 'Naruto, Iruka is only afraid of you holding that scroll!',\n",
       " 'Huh?',\n",
       " 'What are you saying, Mizuki!',\n",
       " \"Don't let him fool you, Naruto!\",\n",
       " 'I will tell you the truth.',\n",
       " 'Idiot!',\n",
       " \"Don't do that!\",\n",
       " 'After an incident 12 years ago, a rule was created.',\n",
       " 'A rule?',\n",
       " 'That is, Naruto, a rule everybody but you knows.',\n",
       " 'Except me?!',\n",
       " 'What is it?',\n",
       " 'Stop it, Mizuki!',\n",
       " 'The rule forbids anyone from revealing that you are actually the Demon Fox Spirit!',\n",
       " 'Huh?',\n",
       " \"You are actually the Demon, Nine-Tailed Fox Spirit,\\n who killed Iruka's parents and destroyed our village!\",\n",
       " 'Stop it!',\n",
       " 'Everyone has been deceiving you ever since.',\n",
       " \"Didn't you find it strange?\",\n",
       " 'Why everyone hated you so much?',\n",
       " 'No!',\n",
       " 'No!',\n",
       " 'No!',\n",
       " 'No!',\n",
       " 'No!',\n",
       " 'Naruto…\\n Nobody accepts you.',\n",
       " \"That's why Iruka hates you so much!\",\n",
       " 'Iruka... Naruto grew up without the love of parents.',\n",
       " 'Everyone avoids him like the plague after what happened.',\n",
       " \"That's why he keeps misbehaving.\",\n",
       " \"It's the only way for him to get any attention or acknowledgement.\",\n",
       " 'He pretends to be tough, but inside he is really hurting.',\n",
       " 'Die, Naruto!',\n",
       " 'Naruto!',\n",
       " 'Get down!',\n",
       " 'Why…?',\n",
       " 'Because you and I are the same.',\n",
       " 'After my parents died,\\n nobody paid attention to me or gave me any support.',\n",
       " \"I wasn't a good student in school.\",\n",
       " 'I was the class clown… because I wanted people to notice me.',\n",
       " \"I couldn't get noticed through excellence, so I kept doing stupid things.\",\n",
       " 'It was so hard.',\n",
       " \"Isn't that right, Naruto?\",\n",
       " 'You felt so lonely…right?',\n",
       " 'And you suffered inside, right?',\n",
       " \"I'm sorry, Naruto….\",\n",
       " \"If I had been more responsible, maybe you wouldn't have suffered so much.\",\n",
       " \"Don't make me laugh!\",\n",
       " 'Iruka has always hated you, ever since you killed his parents!',\n",
       " \"He's just saying all that to get the Scroll of Sealing back!\",\n",
       " 'Naruto!',\n",
       " 'Narutoooooo!',\n",
       " 'He is not the type of kid who will change his mind.',\n",
       " 'He will take revenge against our village using that scroll!',\n",
       " \"Didn't you see his eyes?\",\n",
       " 'Those are the eyes of a Demon Fox.',\n",
       " \"No… Naruto…isn't…like that at all!\",\n",
       " 'All I want is to kill Naruto and get the scroll.',\n",
       " \"I'll take care of you later!\",\n",
       " \"I-I won't let you…\\n Well, well.\",\n",
       " 'Mizuki has a big mouth!',\n",
       " \"Naruto feels worse than he's ever felt.\",\n",
       " 'He might unleash the power locked up inside him.',\n",
       " 'The Scroll of Sealing is now with him.',\n",
       " \"There's a slight chance he might actually release\\n the Nine-Tailed Fox Spirit sealed inside him!\",\n",
       " \"If that happens…\\n I've found him!\",\n",
       " 'Naruto!',\n",
       " 'Everything that Mizuki said was a lie!',\n",
       " 'Give me that scroll, quick!',\n",
       " 'Mizuki is after the scroll!',\n",
       " \"It can't be…\\n Why is it, Naruto?\",\n",
       " \"How…\\n did you know I wasn't Iruka…?\",\n",
       " \"Because I'm Iruka.\",\n",
       " 'I see.',\n",
       " \"What's in it for you to protect the one who killed your family?\",\n",
       " \"I'm not gonna let a stupid idiot like you get that scroll!\",\n",
       " \"You're the idiot.\",\n",
       " 'Naruto is the same as me.',\n",
       " 'Same?',\n",
       " 'Anyone can do whatever he wants once he has the scroll.',\n",
       " \"There is no way that that monster…\\n that Fox Spirit, won't take advantage of the power of that scroll!\",\n",
       " \"You're right…\\n I guess it was true all along!\",\n",
       " 'See, Iruka Sensei never really cared for me at all!',\n",
       " '...if he was the Demon Fox Spirit.',\n",
       " 'But Naruto is different!',\n",
       " 'I know that he is an exceptional student.',\n",
       " \"He works very hard,\\n and he's single-minded and clumsy at the same time.\",\n",
       " 'No one accepts him, but he knows the meaning of human suffering.',\n",
       " 'He is not the Demon Fox Spirit.',\n",
       " \"He's Naruto Uzumaki of the Village Hidden in the Leaves!\",\n",
       " 'You are so gullible.',\n",
       " 'lruka!',\n",
       " 'I was gonna take you down later, but I have changed my mind.',\n",
       " 'Die!',\n",
       " 'I guess this is the end for me…\\n Naruto?!',\n",
       " 'You surprised me there, freak.',\n",
       " \"If you ever lay a hand on Iruka Sensei, I'll kill you!\",\n",
       " 'Shut up!',\n",
       " 'I can take care of a kid like you with a single blow!',\n",
       " \"Why don't you try then?\",\n",
       " \"I'll strike you back a thousand-fold!\",\n",
       " \"Let's see you try!\",\n",
       " 'Show me what you can do, Demon Fox!',\n",
       " 'Shadow Clone Jutsu!',\n",
       " 'Naruto!',\n",
       " \"You've…\\n Those aren't just images but actual clones!\",\n",
       " \"That's an advanced Ninjutsu!\",\n",
       " \"What's this…?\",\n",
       " \"What's the matter?\",\n",
       " \"C'mon!\",\n",
       " \"Weren't you gonna get me with one blow?\",\n",
       " 'Here!',\n",
       " \"In that case… I'll come to you.\",\n",
       " 'I kinda got carried away.',\n",
       " 'lruka Sensei, are you okay?',\n",
       " 'Yeah.',\n",
       " \"He's really something.\",\n",
       " 'Maybe it is true.',\n",
       " 'Maybe he will surpass all the Hokage leaders…\\n Naruto, come over here.',\n",
       " \"I'd like to give you something.\",\n",
       " 'Has anyone found Naruto yet?',\n",
       " 'No.',\n",
       " \"Darn, this is going to be bad…\\n There's no need to worry anymore.\",\n",
       " 'Lord Hokage!',\n",
       " \"He'll be back soon.\",\n",
       " 'Sensei, how much longer?',\n",
       " 'OK, you may open your eyes now.',\n",
       " 'Congratulations…on your graduation.',\n",
       " \"In celebration, we'll have ramen tonight!\",\n",
       " 'Iruka Sensei!',\n",
       " 'That hurts!',\n",
       " \"Naruto…\\n I was going to lecture to you...\\n that the road gets more difficult now that you're a Ninja.\",\n",
       " \"But I guess I'll just wait to tell you that until we get to the ramen stand…\\n W-What do you want, you little shrimp?\",\n",
       " 'Quit following me!',\n",
       " \"You're smaller than me and\\n you're saying that you're gonna become the Fifth Hokage?\",\n",
       " \"I don't care if you are the 3rd Hokage's grandson or not.\",\n",
       " \"It's not that easy to be a Hokage!\",\n",
       " \"If you want it that bad, you're gonna have to beat me first!\",\n",
       " 'Next episode:  \"My Name Is Konohamaru!\"',\n",
       " 'Watch my outstanding performance!']"
      ]
     },
     "execution_count": 11,
     "metadata": {},
     "output_type": "execute_result"
    }
   ],
   "source": [
    "script_sentences = sent_tokenize(script)\n",
    "script_sentences"
   ]
  },
  {
   "cell_type": "code",
   "execution_count": 13,
   "metadata": {},
   "outputs": [],
   "source": [
    "# Batch sentences\n",
    "sentence_batch_size = 20\n",
    "script_batches = []\n",
    "for index in range(0, len(script_sentences), sentence_batch_size):\n",
    "    sentence = \" \".join(script_sentences[index: index + sentence_batch_size])\n",
    "    script_batches.append(sentence)\n",
    "    "
   ]
  },
  {
   "cell_type": "code",
   "execution_count": 14,
   "metadata": {},
   "outputs": [
    {
     "data": {
      "text/plain": [
       "[\"A long time ago, a powerful demon fox appeared with nine tails. With its powerful tails,\\n it could smash mountains and create tidal waves. A band of Ninjas rose to defend their village from attack. We have to wait until the Fourth Hokage gets here! We can't let it get any closer to our village! One great Ninja was able to imprison the monster,\\n but died in the process. This Ninja was known as… the Fourth Hokage. Naruto! Why did you do such a thing?! You're really gonna get it this time! I don't care! You know your problem? You can't do the things I do! Only I can do this! I'm better than all of you! Believe it! There's a problem, sir! Lord Hokage! What is it? Did that Naruto do something again?\",\n",
       " 'Yes. He climbed onto the Mountainside Images…\\n And he vandalized and graffitied all over them! Wait! Ha ha…\\n Why should I? Hey, Naruto! How did you suddenly get here, lruka Sensei? The question is what are you doing here when you should be in class now? Now listen, Naruto. You failed the last graduation test and the one before that. This is no time to be goofing off, you fool! We will have a re-test on the Transformation Jutsu! Even those who already passed will take it! Whaaaat?! Sakura Haruno. Here I go…\\n Transform! OK! I did it! Cha! Did you see that, Sasuke? Next, Sasuke Uchiha.']"
      ]
     },
     "execution_count": 14,
     "metadata": {},
     "output_type": "execute_result"
    }
   ],
   "source": [
    "script_batches[:2]"
   ]
  },
  {
   "cell_type": "code",
   "execution_count": 15,
   "metadata": {},
   "outputs": [],
   "source": [
    "theme_output = theme_classifier(\n",
    "    script_batches[:2],\n",
    "    theme_list,\n",
    "    multi_label=True\n",
    ")"
   ]
  },
  {
   "cell_type": "code",
   "execution_count": 18,
   "metadata": {},
   "outputs": [
    {
     "data": {
      "text/plain": [
       "{'sequence': 'Yes. He climbed onto the Mountainside Images…\\n And he vandalized and graffitied all over them! Wait! Ha ha…\\n Why should I? Hey, Naruto! How did you suddenly get here, lruka Sensei? The question is what are you doing here when you should be in class now? Now listen, Naruto. You failed the last graduation test and the one before that. This is no time to be goofing off, you fool! We will have a re-test on the Transformation Jutsu! Even those who already passed will take it! Whaaaat?! Sakura Haruno. Here I go…\\n Transform! OK! I did it! Cha! Did you see that, Sasuke? Next, Sasuke Uchiha.',\n",
       " 'labels': ['dialogue',\n",
       "  'self development',\n",
       "  'battle',\n",
       "  'betrayel',\n",
       "  'sacrifice',\n",
       "  'hope',\n",
       "  'friendship',\n",
       "  'love'],\n",
       " 'scores': [0.9370126128196716,\n",
       "  0.8678206205368042,\n",
       "  0.6581313014030457,\n",
       "  0.632733941078186,\n",
       "  0.6258843541145325,\n",
       "  0.20423996448516846,\n",
       "  0.08603328466415405,\n",
       "  0.02802051603794098]}"
      ]
     },
     "execution_count": 18,
     "metadata": {},
     "output_type": "execute_result"
    }
   ],
   "source": [
    "theme_output[1]"
   ]
  },
  {
   "cell_type": "code",
   "execution_count": 19,
   "metadata": {},
   "outputs": [],
   "source": [
    "# Wrangle output\n",
    "# battle: [0.5343, 0.3232]\n",
    "themes = {}\n",
    "for output in theme_output:\n",
    "    for label, score in zip(output['labels'], output['scores']):\n",
    "        if label not in themes:\n",
    "            themes[label] = []\n",
    "        themes[label].append(score)"
   ]
  },
  {
   "cell_type": "code",
   "execution_count": 20,
   "metadata": {},
   "outputs": [
    {
     "data": {
      "text/plain": [
       "{'dialogue': [0.9800741672515869, 0.9370126128196716],\n",
       " 'battle': [0.8546885251998901, 0.6581313014030457],\n",
       " 'sacrifice': [0.7349812388420105, 0.6258843541145325],\n",
       " 'self development': [0.7284978032112122, 0.8678206205368042],\n",
       " 'hope': [0.19909809529781342, 0.20423996448516846],\n",
       " 'betrayel': [0.19370169937610626, 0.632733941078186],\n",
       " 'friendship': [0.0592232346534729, 0.08603328466415405],\n",
       " 'love': [0.0402618944644928, 0.02802051603794098]}"
      ]
     },
     "execution_count": 20,
     "metadata": {},
     "output_type": "execute_result"
    }
   ],
   "source": [
    "themes"
   ]
  },
  {
   "cell_type": "code",
   "execution_count": 26,
   "metadata": {},
   "outputs": [],
   "source": [
    "def get_themes_inference(script):\n",
    "    script_sentences = sent_tokenize(script)\n",
    "    # Batch sentences\n",
    "    sentence_batch_size = 20\n",
    "    script_batches = []\n",
    "    for index in range(0, len(script_sentences), sentence_batch_size):\n",
    "        sentence = \" \".join(script_sentences[index: index + sentence_batch_size])\n",
    "        script_batches.append(sentence)\n",
    "    \n",
    "    theme_output = theme_classifier(\n",
    "    script_batches[:2],\n",
    "    theme_list,\n",
    "    multi_label=True\n",
    "    )\n",
    "    \n",
    "    # Wrangle output\n",
    "    # battle: [0.5343, 0.3232]\n",
    "    themes = {}\n",
    "    for output in theme_output:\n",
    "        for label, score in zip(output['labels'], output['scores']):\n",
    "            if label not in themes:\n",
    "                themes[label] = []\n",
    "            themes[label].append(score)\n",
    "    themes = {key: np.mean(np.array(value)) for key, value in themes.items()}\n",
    "    return themes"
   ]
  },
  {
   "cell_type": "code",
   "execution_count": 27,
   "metadata": {},
   "outputs": [],
   "source": [
    "df = df.head(2)"
   ]
  },
  {
   "cell_type": "code",
   "execution_count": 28,
   "metadata": {},
   "outputs": [],
   "source": [
    "output_themes = df['script'].apply(get_themes_inference)"
   ]
  },
  {
   "cell_type": "code",
   "execution_count": 29,
   "metadata": {},
   "outputs": [
    {
     "data": {
      "text/plain": [
       "0    {'dialogue': 0.9585433900356293, 'battle': 0.7...\n",
       "1    {'dialogue': 0.9606060981750488, 'sacrifice': ...\n",
       "Name: script, dtype: object"
      ]
     },
     "execution_count": 29,
     "metadata": {},
     "output_type": "execute_result"
    }
   ],
   "source": [
    "output_themes"
   ]
  },
  {
   "cell_type": "code",
   "execution_count": 32,
   "metadata": {},
   "outputs": [],
   "source": [
    "theme_df = pd.DataFrame(output_themes.tolist())"
   ]
  },
  {
   "cell_type": "code",
   "execution_count": 33,
   "metadata": {},
   "outputs": [
    {
     "data": {
      "text/html": [
       "<div>\n",
       "<style scoped>\n",
       "    .dataframe tbody tr th:only-of-type {\n",
       "        vertical-align: middle;\n",
       "    }\n",
       "\n",
       "    .dataframe tbody tr th {\n",
       "        vertical-align: top;\n",
       "    }\n",
       "\n",
       "    .dataframe thead th {\n",
       "        text-align: right;\n",
       "    }\n",
       "</style>\n",
       "<table border=\"1\" class=\"dataframe\">\n",
       "  <thead>\n",
       "    <tr style=\"text-align: right;\">\n",
       "      <th></th>\n",
       "      <th>episode</th>\n",
       "      <th>script</th>\n",
       "      <th>dialogue</th>\n",
       "      <th>battle</th>\n",
       "      <th>sacrifice</th>\n",
       "      <th>self development</th>\n",
       "      <th>hope</th>\n",
       "      <th>betrayel</th>\n",
       "      <th>friendship</th>\n",
       "      <th>love</th>\n",
       "    </tr>\n",
       "  </thead>\n",
       "  <tbody>\n",
       "    <tr>\n",
       "      <th>0</th>\n",
       "      <td>1</td>\n",
       "      <td>A long time ago, a powerful demon fox appeared...</td>\n",
       "      <td>0.958543</td>\n",
       "      <td>0.756410</td>\n",
       "      <td>0.680433</td>\n",
       "      <td>0.798159</td>\n",
       "      <td>0.201669</td>\n",
       "      <td>0.413218</td>\n",
       "      <td>0.072628</td>\n",
       "      <td>0.034141</td>\n",
       "    </tr>\n",
       "    <tr>\n",
       "      <th>1</th>\n",
       "      <td>2</td>\n",
       "      <td>C'mon!\\n Running like a fugitive,\\n Being chas...</td>\n",
       "      <td>0.960606</td>\n",
       "      <td>0.684846</td>\n",
       "      <td>0.570703</td>\n",
       "      <td>0.482810</td>\n",
       "      <td>0.154534</td>\n",
       "      <td>0.557512</td>\n",
       "      <td>0.046261</td>\n",
       "      <td>0.173261</td>\n",
       "    </tr>\n",
       "  </tbody>\n",
       "</table>\n",
       "</div>"
      ],
      "text/plain": [
       "   episode                                             script  dialogue  \\\n",
       "0        1  A long time ago, a powerful demon fox appeared...  0.958543   \n",
       "1        2  C'mon!\\n Running like a fugitive,\\n Being chas...  0.960606   \n",
       "\n",
       "     battle  sacrifice  self development      hope  betrayel  friendship  \\\n",
       "0  0.756410   0.680433          0.798159  0.201669  0.413218    0.072628   \n",
       "1  0.684846   0.570703          0.482810  0.154534  0.557512    0.046261   \n",
       "\n",
       "       love  \n",
       "0  0.034141  \n",
       "1  0.173261  "
      ]
     },
     "execution_count": 33,
     "metadata": {},
     "output_type": "execute_result"
    }
   ],
   "source": [
    "df[theme_df.columns] = theme_df\n",
    "df"
   ]
  },
  {
   "cell_type": "code",
   "execution_count": 34,
   "metadata": {},
   "outputs": [],
   "source": [
    "# Visualize output\n",
    "df2 = df.copy()"
   ]
  },
  {
   "cell_type": "code",
   "execution_count": 35,
   "metadata": {},
   "outputs": [
    {
     "data": {
      "text/html": [
       "<div>\n",
       "<style scoped>\n",
       "    .dataframe tbody tr th:only-of-type {\n",
       "        vertical-align: middle;\n",
       "    }\n",
       "\n",
       "    .dataframe tbody tr th {\n",
       "        vertical-align: top;\n",
       "    }\n",
       "\n",
       "    .dataframe thead th {\n",
       "        text-align: right;\n",
       "    }\n",
       "</style>\n",
       "<table border=\"1\" class=\"dataframe\">\n",
       "  <thead>\n",
       "    <tr style=\"text-align: right;\">\n",
       "      <th></th>\n",
       "      <th>episode</th>\n",
       "      <th>script</th>\n",
       "      <th>battle</th>\n",
       "      <th>sacrifice</th>\n",
       "      <th>self development</th>\n",
       "      <th>hope</th>\n",
       "      <th>betrayel</th>\n",
       "      <th>friendship</th>\n",
       "      <th>love</th>\n",
       "    </tr>\n",
       "  </thead>\n",
       "  <tbody>\n",
       "    <tr>\n",
       "      <th>0</th>\n",
       "      <td>1</td>\n",
       "      <td>A long time ago, a powerful demon fox appeared...</td>\n",
       "      <td>0.756410</td>\n",
       "      <td>0.680433</td>\n",
       "      <td>0.798159</td>\n",
       "      <td>0.201669</td>\n",
       "      <td>0.413218</td>\n",
       "      <td>0.072628</td>\n",
       "      <td>0.034141</td>\n",
       "    </tr>\n",
       "    <tr>\n",
       "      <th>1</th>\n",
       "      <td>2</td>\n",
       "      <td>C'mon!\\n Running like a fugitive,\\n Being chas...</td>\n",
       "      <td>0.684846</td>\n",
       "      <td>0.570703</td>\n",
       "      <td>0.482810</td>\n",
       "      <td>0.154534</td>\n",
       "      <td>0.557512</td>\n",
       "      <td>0.046261</td>\n",
       "      <td>0.173261</td>\n",
       "    </tr>\n",
       "  </tbody>\n",
       "</table>\n",
       "</div>"
      ],
      "text/plain": [
       "   episode                                             script    battle  \\\n",
       "0        1  A long time ago, a powerful demon fox appeared...  0.756410   \n",
       "1        2  C'mon!\\n Running like a fugitive,\\n Being chas...  0.684846   \n",
       "\n",
       "   sacrifice  self development      hope  betrayel  friendship      love  \n",
       "0   0.680433          0.798159  0.201669  0.413218    0.072628  0.034141  \n",
       "1   0.570703          0.482810  0.154534  0.557512    0.046261  0.173261  "
      ]
     },
     "execution_count": 35,
     "metadata": {},
     "output_type": "execute_result"
    }
   ],
   "source": [
    "df2.drop('dialogue', axis = 1)"
   ]
  },
  {
   "cell_type": "code",
   "execution_count": 38,
   "metadata": {},
   "outputs": [
    {
     "data": {
      "text/html": [
       "<div>\n",
       "<style scoped>\n",
       "    .dataframe tbody tr th:only-of-type {\n",
       "        vertical-align: middle;\n",
       "    }\n",
       "\n",
       "    .dataframe tbody tr th {\n",
       "        vertical-align: top;\n",
       "    }\n",
       "\n",
       "    .dataframe thead th {\n",
       "        text-align: right;\n",
       "    }\n",
       "</style>\n",
       "<table border=\"1\" class=\"dataframe\">\n",
       "  <thead>\n",
       "    <tr style=\"text-align: right;\">\n",
       "      <th></th>\n",
       "      <th>theme</th>\n",
       "      <th>score</th>\n",
       "    </tr>\n",
       "  </thead>\n",
       "  <tbody>\n",
       "    <tr>\n",
       "      <th>0</th>\n",
       "      <td>dialogue</td>\n",
       "      <td>1.919149</td>\n",
       "    </tr>\n",
       "    <tr>\n",
       "      <th>1</th>\n",
       "      <td>battle</td>\n",
       "      <td>1.441256</td>\n",
       "    </tr>\n",
       "    <tr>\n",
       "      <th>2</th>\n",
       "      <td>sacrifice</td>\n",
       "      <td>1.251136</td>\n",
       "    </tr>\n",
       "    <tr>\n",
       "      <th>3</th>\n",
       "      <td>self development</td>\n",
       "      <td>1.280969</td>\n",
       "    </tr>\n",
       "    <tr>\n",
       "      <th>4</th>\n",
       "      <td>hope</td>\n",
       "      <td>0.356203</td>\n",
       "    </tr>\n",
       "    <tr>\n",
       "      <th>5</th>\n",
       "      <td>betrayel</td>\n",
       "      <td>0.970730</td>\n",
       "    </tr>\n",
       "    <tr>\n",
       "      <th>6</th>\n",
       "      <td>friendship</td>\n",
       "      <td>0.118889</td>\n",
       "    </tr>\n",
       "    <tr>\n",
       "      <th>7</th>\n",
       "      <td>love</td>\n",
       "      <td>0.207402</td>\n",
       "    </tr>\n",
       "  </tbody>\n",
       "</table>\n",
       "</div>"
      ],
      "text/plain": [
       "              theme     score\n",
       "0          dialogue  1.919149\n",
       "1            battle  1.441256\n",
       "2         sacrifice  1.251136\n",
       "3  self development  1.280969\n",
       "4              hope  0.356203\n",
       "5          betrayel  0.970730\n",
       "6        friendship  0.118889\n",
       "7              love  0.207402"
      ]
     },
     "execution_count": 38,
     "metadata": {},
     "output_type": "execute_result"
    }
   ],
   "source": [
    "theme_output = df2.drop(['episode', 'script'], axis = 1).sum().reset_index()\n",
    "theme_output.columns = ['theme', 'score']\n",
    "theme_output"
   ]
  },
  {
   "cell_type": "code",
   "execution_count": 39,
   "metadata": {},
   "outputs": [],
   "source": [
    "import matplotlib.pyplot as plt\n",
    "import seaborn as sns\n"
   ]
  },
  {
   "cell_type": "code",
   "execution_count": 42,
   "metadata": {},
   "outputs": [
    {
     "data": {
      "image/png": "[encoded data removed]",
      "text/plain": [
       "<Figure size 640x480 with 1 Axes>"
      ]
     },
     "metadata": {},
     "output_type": "display_data"
    }
   ],
   "source": [
    "sns.barplot(data=theme_output, x='theme', y='score')\n",
    "plt.xticks(rotation = 45)\n",
    "plt.show()"
   ]
  },
  {
   "cell_type": "code",
   "execution_count": null,
   "metadata": {},
   "outputs": [],
   "source": []
  }
 ],
 "metadata": {
  "kernelspec": {
   "display_name": "Python 3",
   "language": "python",
   "name": "python3"
  },
  "language_info": {
   "codemirror_mode": {
    "name": "ipython",
    "version": 3
   },
   "file_extension": ".py",
   "mimetype": "text/x-python",
   "name": "python",
   "nbconvert_exporter": "python",
   "pygments_lexer": "ipython3",
   "version": "3.11.5"
  }
 },
 "nbformat": 4,
 "nbformat_minor": 2
}
